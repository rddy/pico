{
 "cells": [
  {
   "cell_type": "code",
   "execution_count": null,
   "metadata": {
    "scrolled": true
   },
   "outputs": [],
   "source": [
    "%load_ext autoreload\n",
    "%autoreload 2"
   ]
  },
  {
   "cell_type": "code",
   "execution_count": null,
   "metadata": {
    "colab": {},
    "colab_type": "code",
    "id": "TPdT-hYj1XXQ",
    "scrolled": true
   },
   "outputs": [],
   "source": [
    "from __future__ import division\n",
    "\n",
    "from collections import defaultdict\n",
    "from copy import deepcopy\n",
    "import os\n",
    "import pickle\n",
    "import uuid\n",
    "import time\n",
    "\n",
    "from matplotlib.backends.backend_agg import FigureCanvasAgg as FigureCanvas\n",
    "import numpy as np\n",
    "from sklearn.mixture import GaussianMixture\n",
    "from brokenaxes import brokenaxes\n",
    "\n",
    "from pico.gan import PicoGAN\n",
    "from pico.user_models import MLPPolicy\n",
    "from pico.discrim_models import MLPDiscrim\n",
    "from pico.encoder_models import SGEncoder\n",
    "from pico.envs import LCarEnv, LCarSurvEnv\n",
    "from pico.compression_models import Masker, MLPCompressor\n",
    "from pico import utils\n",
    "from pico import viz"
   ]
  },
  {
   "cell_type": "code",
   "execution_count": null,
   "metadata": {
    "scrolled": true
   },
   "outputs": [],
   "source": [
    "from matplotlib import pyplot as plt\n",
    "import matplotlib as mpl\n",
    "%matplotlib inline"
   ]
  },
  {
   "cell_type": "code",
   "execution_count": null,
   "metadata": {
    "scrolled": true
   },
   "outputs": [],
   "source": [
    "sess = utils.make_tf_session(gpu_mode=True)"
   ]
  },
  {
   "cell_type": "code",
   "execution_count": null,
   "metadata": {},
   "outputs": [],
   "source": [
    "#data_dir = os.path.join(utils.lcar_data_dir, 'surv')\n",
    "data_dir = utils.lcar_data_dir"
   ]
  },
  {
   "cell_type": "code",
   "execution_count": null,
   "metadata": {
    "scrolled": true
   },
   "outputs": [],
   "source": [
    "if not os.path.exists(data_dir):\n",
    "  os.makedirs(data_dir)\n",
    "fig_dir = os.path.join(data_dir, 'figures')\n",
    "if not os.path.exists(fig_dir):\n",
    "  os.makedirs(fig_dir)"
   ]
  },
  {
   "cell_type": "markdown",
   "metadata": {},
   "source": [
    "outer encoder-decoder"
   ]
  },
  {
   "cell_type": "code",
   "execution_count": null,
   "metadata": {},
   "outputs": [],
   "source": [
    "encoder = SGEncoder('car')"
   ]
  },
  {
   "cell_type": "code",
   "execution_count": null,
   "metadata": {},
   "outputs": [],
   "source": [
    "dataset_path = os.path.join(data_dir, 'dataset.pkl')"
   ]
  },
  {
   "cell_type": "code",
   "execution_count": null,
   "metadata": {},
   "outputs": [],
   "source": [
    "with open(dataset_path, 'rb') as f:\n",
    "  dataset = pickle.load(f)"
   ]
  },
  {
   "cell_type": "code",
   "execution_count": null,
   "metadata": {},
   "outputs": [],
   "source": [
    "np.mean(dataset['labels']), len(dataset['labels'])"
   ]
  },
  {
   "cell_type": "code",
   "execution_count": null,
   "metadata": {},
   "outputs": [],
   "source": [
    "n_act_dims = dataset['n_classes']\n",
    "img_shape = dataset['img_shape']\n",
    "img_shape, n_act_dims"
   ]
  },
  {
   "cell_type": "code",
   "execution_count": null,
   "metadata": {},
   "outputs": [],
   "source": [
    "img_idxes_of_label = defaultdict(list)\n",
    "for i, x in enumerate(dataset['labels']):\n",
    "  img_idxes_of_label[x].append(i)"
   ]
  },
  {
   "cell_type": "code",
   "execution_count": null,
   "metadata": {
    "scrolled": true
   },
   "outputs": [],
   "source": [
    "img_idx = img_idxes_of_label[0][2]\n",
    "img = dataset['imgs'][img_idx]\n",
    "plt.imshow(img)\n",
    "plt.show()"
   ]
  },
  {
   "cell_type": "code",
   "execution_count": null,
   "metadata": {
    "scrolled": true
   },
   "outputs": [],
   "source": [
    "start_time = time.time()\n",
    "latent = encoder.encode(img[np.newaxis], verbosity=50)\n",
    "latent, np.max(latent), np.min(latent), (time.time() - start_time)"
   ]
  },
  {
   "cell_type": "code",
   "execution_count": null,
   "metadata": {},
   "outputs": [],
   "source": [
    "latent = encoder.sample(1)"
   ]
  },
  {
   "cell_type": "code",
   "execution_count": null,
   "metadata": {},
   "outputs": [],
   "source": [
    "latent = dataset['latents'][img_idx]"
   ]
  },
  {
   "cell_type": "code",
   "execution_count": null,
   "metadata": {
    "scrolled": true
   },
   "outputs": [],
   "source": [
    "img = encoder.decode(latent)[0]\n",
    "plt.imshow(img)\n",
    "plt.show()"
   ]
  },
  {
   "cell_type": "code",
   "execution_count": null,
   "metadata": {},
   "outputs": [],
   "source": []
  },
  {
   "cell_type": "code",
   "execution_count": null,
   "metadata": {},
   "outputs": [],
   "source": [
    "dataset = utils.make_scar_dataset(use_cache=False, img_size=None)"
   ]
  },
  {
   "cell_type": "code",
   "execution_count": null,
   "metadata": {},
   "outputs": [],
   "source": [
    "dataset['latents'] = encoder.encode(dataset['imgs'])"
   ]
  },
  {
   "cell_type": "code",
   "execution_count": null,
   "metadata": {},
   "outputs": [],
   "source": [
    "with open(dataset_path, 'wb') as f:\n",
    "  pickle.dump(dataset, f, pickle.HIGHEST_PROTOCOL)"
   ]
  },
  {
   "cell_type": "code",
   "execution_count": null,
   "metadata": {},
   "outputs": [],
   "source": []
  },
  {
   "cell_type": "code",
   "execution_count": null,
   "metadata": {},
   "outputs": [],
   "source": [
    "n_act_blocks = encoder.n_syn_layers\n",
    "act_block_size = encoder.latent_dim // n_act_blocks\n",
    "user_block_idxes = list(range(8))"
   ]
  },
  {
   "cell_type": "markdown",
   "metadata": {},
   "source": [
    "sim user model"
   ]
  },
  {
   "cell_type": "code",
   "execution_count": null,
   "metadata": {
    "scrolled": true
   },
   "outputs": [],
   "source": [
    "data = {\n",
    "  'obses': dataset['latents'],\n",
    "  'imgs': dataset['imgs'],\n",
    "  'actions': np.array([utils.onehot_encode(int(a), n_act_dims) for a in dataset['labels']])\n",
    "}"
   ]
  },
  {
   "cell_type": "code",
   "execution_count": null,
   "metadata": {},
   "outputs": [],
   "source": [
    "data = utils.split_user_data(data, train_frac=0.99)"
   ]
  },
  {
   "cell_type": "code",
   "execution_count": null,
   "metadata": {
    "scrolled": true
   },
   "outputs": [],
   "source": [
    "sim_user_model_data_path = os.path.join(data_dir, 'sim_user_model_data.pkl')"
   ]
  },
  {
   "cell_type": "code",
   "execution_count": null,
   "metadata": {
    "scrolled": true
   },
   "outputs": [],
   "source": [
    "with open(sim_user_model_data_path, 'rb') as f:\n",
    "  data = pickle.load(f)"
   ]
  },
  {
   "cell_type": "code",
   "execution_count": null,
   "metadata": {
    "scrolled": true
   },
   "outputs": [],
   "source": [
    "with open(sim_user_model_data_path, 'wb') as f:\n",
    "  pickle.dump(data, f, pickle.HIGHEST_PROTOCOL)"
   ]
  },
  {
   "cell_type": "code",
   "execution_count": null,
   "metadata": {},
   "outputs": [],
   "source": [
    "sim_user_model_train_kwargs = {\n",
    "  'iterations': 5000,\n",
    "  'ftol': 1e-6,\n",
    "  'learning_rate': 1e-3,\n",
    "  'batch_size': 8,\n",
    "  'val_update_freq': 1000,\n",
    "  'verbose': True\n",
    "}"
   ]
  },
  {
   "cell_type": "code",
   "execution_count": null,
   "metadata": {
    "scrolled": true
   },
   "outputs": [],
   "source": [
    "sim_user_model = MLPPolicy(\n",
    "  sess, \n",
    "  n_act_dims=n_act_dims, \n",
    "  n_obs_dims=encoder.latent_dim,\n",
    "  n_layers=0,\n",
    "  layer_size=256,\n",
    "  #scope=str(uuid.uuid4()),\n",
    "  scope_file=os.path.join(data_dir, 'sim_user_model_scope.pkl'),\n",
    "  tf_file=os.path.join(data_dir, 'sim_user_model.tf')\n",
    ")\n",
    "sim_user_model.noverfit = True"
   ]
  },
  {
   "cell_type": "code",
   "execution_count": null,
   "metadata": {
    "scrolled": true
   },
   "outputs": [],
   "source": [
    "sim_user_model.train(data, **sim_user_model_train_kwargs)"
   ]
  },
  {
   "cell_type": "code",
   "execution_count": null,
   "metadata": {
    "scrolled": true
   },
   "outputs": [],
   "source": [
    "sim_user_model.save()"
   ]
  },
  {
   "cell_type": "code",
   "execution_count": null,
   "metadata": {},
   "outputs": [],
   "source": [
    "sim_user_model.load()"
   ]
  },
  {
   "cell_type": "markdown",
   "metadata": {},
   "source": [
    "compression policy"
   ]
  },
  {
   "cell_type": "code",
   "execution_count": null,
   "metadata": {},
   "outputs": [],
   "source": [
    "idxes = data['train_idxes']\n",
    "env_data = {k: data[k][idxes] for k in ['obses', 'imgs', 'actions']}"
   ]
  },
  {
   "cell_type": "code",
   "execution_count": null,
   "metadata": {},
   "outputs": [],
   "source": [
    "'''\n",
    "gm = GaussianMixture(n_components=2).fit(env_data['obses'])\n",
    "obs_prior_means = gm.means_\n",
    "obs_prior_stds = np.diagonal(gm.covariances_, axis1=1, axis2=2)\n",
    "obs_prior_mix_coefs = gm.weights_\n",
    "'''"
   ]
  },
  {
   "cell_type": "code",
   "execution_count": null,
   "metadata": {},
   "outputs": [],
   "source": [
    "obs_prior_means = np.mean(env_data['obses'], axis=0)\n",
    "obs_prior_stds = np.std(env_data['obses'], axis=0)\n",
    "obs_prior_mix_coefs = None"
   ]
  },
  {
   "cell_type": "code",
   "execution_count": null,
   "metadata": {},
   "outputs": [],
   "source": [
    "def apply_mask(real_obses, mask, **kwargs):\n",
    "  return utils.apply_mask(real_obses, mask, obs_prior_means, obs_prior_stds, obs_prior_mix_coefs, encoder=encoder)"
   ]
  },
  {
   "cell_type": "code",
   "execution_count": null,
   "metadata": {},
   "outputs": [],
   "source": [
    "n_act_blocks = 8\n",
    "train_mask_limits = (0.5, 0.5)\n",
    "def make_env(val_mode=True):\n",
    "  discrim = MLPDiscrim(\n",
    "    sess, \n",
    "    n_act_dims=n_act_dims,\n",
    "    n_obs_dims=encoder.latent_dim,\n",
    "    struct=True,\n",
    "    n_layers=2,\n",
    "    layer_size=64,\n",
    "    scope=str(uuid.uuid4()),\n",
    "    scope_file=os.path.join(data_dir, 'discrim_scope.pkl'),\n",
    "    tf_file=os.path.join(data_dir, 'discrim.tf')\n",
    "  )\n",
    "  rew_mod = MLPDiscrim(\n",
    "    sess, \n",
    "    n_act_dims=n_act_blocks,\n",
    "    n_obs_dims=encoder.latent_dim,\n",
    "    n_layers=2,\n",
    "    layer_size=64,\n",
    "    scope=str(uuid.uuid4()),\n",
    "    scope_file=os.path.join(data_dir, 'rew_mod_scope.pkl'),\n",
    "    tf_file=os.path.join(data_dir, 'rew_mod.tf')\n",
    "  )\n",
    "  if not val_mode:\n",
    "    mask_limits = train_mask_limits\n",
    "  else:\n",
    "    mask_limits = (None, None)\n",
    "  env = LCarEnv(\n",
    "    sim_user_model, \n",
    "    encoder, \n",
    "    env_data,\n",
    "    apply_mask,\n",
    "    rew_mod,\n",
    "    discrim,\n",
    "    val_mode=val_mode,\n",
    "    n_act_blocks=n_act_blocks,\n",
    "    mask_limits=mask_limits\n",
    "  )\n",
    "  return env"
   ]
  },
  {
   "cell_type": "code",
   "execution_count": null,
   "metadata": {},
   "outputs": [],
   "source": [
    "def make_model(env, model_path):\n",
    "  if not os.path.exists(model_path):\n",
    "    os.makedirs(model_path)\n",
    "  model = MLPCompressor(\n",
    "    sess,\n",
    "    rew_mod=env.rew_mod,\n",
    "    n_obs_dims=encoder.latent_dim,\n",
    "    n_act_dims=n_act_blocks,\n",
    "    n_user_act_dims=n_act_dims,\n",
    "    n_layers=2,\n",
    "    layer_size=64,\n",
    "    #scope=str(uuid.uuid4()),\n",
    "    scope_file=os.path.join(model_path, 'scope.pkl'),\n",
    "    tf_file=os.path.join(model_path, 'model.tf')\n",
    "  )\n",
    "  return model"
   ]
  },
  {
   "cell_type": "code",
   "execution_count": null,
   "metadata": {},
   "outputs": [],
   "source": [
    "model_train_kwargs = {\n",
    "  'iterations': 10000,\n",
    "  'ftol': 1e-6,\n",
    "  'learning_rate': 1e-3,\n",
    "  'batch_size': 32,\n",
    "  'val_update_freq': 1000,\n",
    "  'verbose': True\n",
    "}\n",
    "\n",
    "n_iter = 1"
   ]
  },
  {
   "cell_type": "code",
   "execution_count": null,
   "metadata": {},
   "outputs": [],
   "source": [
    "discrim_train_kwargs = {\n",
    "  'iterations': 10000,\n",
    "  'ftol': 1e-6,\n",
    "  'learning_rate': 1e-3,\n",
    "  'batch_size': 32,\n",
    "  'val_update_freq': 1000,\n",
    "  'verbose': True\n",
    "}\n",
    "\n",
    "rew_mod_train_kwargs = {\n",
    "  'iterations': 10000,\n",
    "  'ftol': 1e-6,\n",
    "  'learning_rate': 1e-3,\n",
    "  'batch_size': 32,\n",
    "  'val_update_freq': 1000,\n",
    "  'verbose': True\n",
    "}\n",
    "\n",
    "rew_mod_update_freq = 500"
   ]
  },
  {
   "cell_type": "code",
   "execution_count": null,
   "metadata": {
    "scrolled": true
   },
   "outputs": [],
   "source": [
    "def run_gan_training(model_path, using_mae=False):\n",
    "  env = make_env(val_mode=False)\n",
    "  model = make_model(env, model_path)\n",
    "  gan = PicoGAN(model, env)\n",
    "  model = gan.train(\n",
    "    model_train_kwargs, \n",
    "    verbose=False, \n",
    "    n_iter=n_iter,\n",
    "    rew_mod_update_freq=rew_mod_update_freq, \n",
    "    rew_mod_train_kwargs=rew_mod_train_kwargs,\n",
    "    discrim_train_kwargs=discrim_train_kwargs,\n",
    "    discrim_zero_val=0.25,\n",
    "    using_mae=using_mae\n",
    "  )\n",
    "  return model"
   ]
  },
  {
   "cell_type": "code",
   "execution_count": null,
   "metadata": {},
   "outputs": [],
   "source": [
    "model_path = os.path.join(data_dir, 'model_0')\n",
    "mae_model_path = os.path.join(data_dir, 'mae_model_0')"
   ]
  },
  {
   "cell_type": "code",
   "execution_count": null,
   "metadata": {
    "scrolled": true
   },
   "outputs": [],
   "source": [
    "model = run_gan_training(\n",
    "  model_path=model_path, \n",
    "  using_mae=False\n",
    ")"
   ]
  },
  {
   "cell_type": "code",
   "execution_count": null,
   "metadata": {},
   "outputs": [],
   "source": [
    "model.save()"
   ]
  },
  {
   "cell_type": "code",
   "execution_count": null,
   "metadata": {},
   "outputs": [],
   "source": [
    "mae_model = run_gan_training(\n",
    "  model_path=model_path, \n",
    "  using_mae=True\n",
    ")"
   ]
  },
  {
   "cell_type": "code",
   "execution_count": null,
   "metadata": {},
   "outputs": [],
   "source": [
    "mae_model.save()"
   ]
  },
  {
   "cell_type": "code",
   "execution_count": null,
   "metadata": {},
   "outputs": [],
   "source": []
  },
  {
   "cell_type": "code",
   "execution_count": null,
   "metadata": {
    "scrolled": true
   },
   "outputs": [],
   "source": [
    "eval_env = make_env(val_mode=True)"
   ]
  },
  {
   "cell_type": "code",
   "execution_count": null,
   "metadata": {},
   "outputs": [],
   "source": [
    "def load_model(model_path):\n",
    "  model = make_model(eval_env, model_path)\n",
    "  model.load()\n",
    "  return model"
   ]
  },
  {
   "cell_type": "code",
   "execution_count": null,
   "metadata": {
    "scrolled": true
   },
   "outputs": [],
   "source": [
    "model = load_model(model_path)"
   ]
  },
  {
   "cell_type": "code",
   "execution_count": null,
   "metadata": {
    "scrolled": true
   },
   "outputs": [],
   "source": [
    "mae_model = load_model(mae_model_path)"
   ]
  },
  {
   "cell_type": "code",
   "execution_count": null,
   "metadata": {},
   "outputs": [],
   "source": [
    "def local_eval_model(compression_model, verbosity=0):\n",
    "  return utils.eval_model(\n",
    "    compression_model,\n",
    "    data,\n",
    "    encoder,\n",
    "    sim_user_model,\n",
    "    verbosity=verbosity\n",
    "  )"
   ]
  },
  {
   "cell_type": "code",
   "execution_count": null,
   "metadata": {},
   "outputs": [],
   "source": [
    "mask_limit = 0.5"
   ]
  },
  {
   "cell_type": "code",
   "execution_count": null,
   "metadata": {},
   "outputs": [],
   "source": [
    "baseline_mask_policy = lambda real_obses: np.random.random((real_obses.shape[0], eval_env.n_act_blocks))\n",
    "baseline_compression_model = Masker(baseline_mask_policy, eval_env, mask_limit)"
   ]
  },
  {
   "cell_type": "code",
   "execution_count": null,
   "metadata": {
    "scrolled": true
   },
   "outputs": [],
   "source": [
    "baseline_metrics = local_eval_model(baseline_compression_model, verbosity=20)\n",
    "baseline_metrics"
   ]
  },
  {
   "cell_type": "code",
   "execution_count": null,
   "metadata": {},
   "outputs": [],
   "source": [
    "baseline_metrics['comp_dist'][::(encoder.sg_latent_dim*encoder.n_syn_layers//n_act_blocks)]"
   ]
  },
  {
   "cell_type": "code",
   "execution_count": null,
   "metadata": {},
   "outputs": [],
   "source": [
    "learned_mask_policy = model.act\n",
    "learned_compression_model = Masker(learned_mask_policy, eval_env, mask_limit)"
   ]
  },
  {
   "cell_type": "code",
   "execution_count": null,
   "metadata": {
    "scrolled": true
   },
   "outputs": [],
   "source": [
    "learned_metrics = local_eval_model(learned_compression_model, verbosity=20)\n",
    "learned_metrics"
   ]
  },
  {
   "cell_type": "code",
   "execution_count": null,
   "metadata": {},
   "outputs": [],
   "source": [
    "learned_metrics['comp_dist'][::(encoder.sg_latent_dim*encoder.n_syn_layers//n_act_blocks)]"
   ]
  },
  {
   "cell_type": "code",
   "execution_count": null,
   "metadata": {},
   "outputs": [],
   "source": [
    "mae_mask_policy = mae_model.act\n",
    "mae_compression_model = Masker(mae_mask_policy, eval_env, mask_limit)"
   ]
  },
  {
   "cell_type": "code",
   "execution_count": null,
   "metadata": {},
   "outputs": [],
   "source": [
    "mae_metrics = local_eval_model(mae_compression_model, verbosity=20)\n",
    "mae_metrics"
   ]
  },
  {
   "cell_type": "code",
   "execution_count": null,
   "metadata": {},
   "outputs": [],
   "source": [
    "mae_metrics['comp_dist'][::(encoder.sg_latent_dim*encoder.n_syn_layers//n_act_blocks)]"
   ]
  },
  {
   "cell_type": "code",
   "execution_count": null,
   "metadata": {},
   "outputs": [],
   "source": []
  },
  {
   "cell_type": "code",
   "execution_count": null,
   "metadata": {},
   "outputs": [],
   "source": [
    "mask_limits = [0, 0.25, 0.5, 0.75, 1]"
   ]
  },
  {
   "cell_type": "code",
   "execution_count": null,
   "metadata": {},
   "outputs": [],
   "source": [
    "mask_policy_of_model = {\n",
    "  'baseline': baseline_mask_policy,\n",
    "  'mae': mae_mask_policy,\n",
    "  'learned': learned_mask_policy\n",
    "}"
   ]
  },
  {
   "cell_type": "code",
   "execution_count": null,
   "metadata": {},
   "outputs": [],
   "source": [
    "def eval_mask_policy(mask_policy, mask_limit, **kwargs):\n",
    "  compression_model = Masker(mask_policy, eval_env, mask_limit)\n",
    "  metrics = local_eval_model(compression_model)\n",
    "  return metrics"
   ]
  },
  {
   "cell_type": "code",
   "execution_count": null,
   "metadata": {},
   "outputs": [],
   "source": [
    "mets_of_model = viz.sweep_mask_limits(\n",
    "  mask_limits, \n",
    "  eval_env,\n",
    "  mask_policy_of_model,\n",
    "  eval_mask_policy\n",
    ")"
   ]
  },
  {
   "cell_type": "code",
   "execution_count": null,
   "metadata": {},
   "outputs": [],
   "source": [
    "mets_path = os.path.join(data_dir, 'mets.pkl')"
   ]
  },
  {
   "cell_type": "code",
   "execution_count": null,
   "metadata": {},
   "outputs": [],
   "source": [
    "with open(mets_path, 'rb') as f:\n",
    "  mets_of_model = pickle.load(f)"
   ]
  },
  {
   "cell_type": "code",
   "execution_count": null,
   "metadata": {},
   "outputs": [],
   "source": [
    "with open(mets_path, 'wb') as f:\n",
    "  pickle.dump(mets_of_model, f, pickle.HIGHEST_PROTOCOL)"
   ]
  },
  {
   "cell_type": "code",
   "execution_count": null,
   "metadata": {},
   "outputs": [],
   "source": [
    "plt.title('LSUN Cars')\n",
    "plt.xlabel('Bitrate (Bits)')\n",
    "plt.ylabel(\"User's Action Agreement\")\n",
    "y_key = 'act_acc'\n",
    "x_key = 'kldiv'\n",
    "configs = [\n",
    "  ('learned', 'orange', 'PICO (Ours)'),\n",
    "  ('baseline', 'gray', 'Non-Adaptive (Baseline)'),\n",
    "  ('mae', 'red', 'Perceptual Similarity (Baseline)')\n",
    "]\n",
    "for model_name, color, label in configs:\n",
    "  plt.errorbar(\n",
    "    np.array(mets_of_model[model_name][x_key]), \n",
    "    mets_of_model[model_name][y_key], \n",
    "    mets_of_model[model_name]['%s_stderr' % y_key], \n",
    "    color=color,\n",
    "    marker='o', \n",
    "    capsize=2,\n",
    "    label=label\n",
    "  )\n",
    "plt.legend(loc='lower right', fontsize=11)\n",
    "plt.show()"
   ]
  },
  {
   "cell_type": "code",
   "execution_count": null,
   "metadata": {},
   "outputs": [],
   "source": []
  }
 ],
 "metadata": {
  "accelerator": "GPU",
  "colab": {
   "collapsed_sections": [
    "9v58CTfl8jTc"
   ],
   "name": "BigBiGAN TF Hub Demo",
   "private_outputs": true,
   "provenance": [],
   "toc_visible": true
  },
  "kernelspec": {
   "display_name": "Python 3",
   "language": "python",
   "name": "python3"
  },
  "language_info": {
   "codemirror_mode": {
    "name": "ipython",
    "version": 3
   },
   "file_extension": ".py",
   "mimetype": "text/x-python",
   "name": "python",
   "nbconvert_exporter": "python",
   "pygments_lexer": "ipython3",
   "version": "3.6.12"
  },
  "widgets": {
   "application/vnd.jupyter.widget-state+json": {
    "state": {
     "18191f128e1547c5909189eba3ab0f61": {
      "model_module": "@jupyter-widgets/base",
      "model_module_version": "1.2.0",
      "model_name": "LayoutModel",
      "state": {
       "_model_module": "@jupyter-widgets/base",
       "_model_module_version": "1.2.0",
       "_model_name": "LayoutModel",
       "_view_count": null,
       "_view_module": "@jupyter-widgets/base",
       "_view_module_version": "1.2.0",
       "_view_name": "LayoutView",
       "align_content": null,
       "align_items": null,
       "align_self": null,
       "border": null,
       "bottom": null,
       "display": null,
       "flex": null,
       "flex_flow": null,
       "grid_area": null,
       "grid_auto_columns": null,
       "grid_auto_flow": null,
       "grid_auto_rows": null,
       "grid_column": null,
       "grid_gap": null,
       "grid_row": null,
       "grid_template_areas": null,
       "grid_template_columns": null,
       "grid_template_rows": null,
       "height": null,
       "justify_content": null,
       "justify_items": null,
       "left": null,
       "margin": null,
       "max_height": null,
       "max_width": null,
       "min_height": null,
       "min_width": null,
       "object_fit": null,
       "object_position": null,
       "order": null,
       "overflow": null,
       "overflow_x": null,
       "overflow_y": null,
       "padding": null,
       "right": null,
       "top": null,
       "visibility": null,
       "width": null
      }
     },
     "405b1bf50cc24b92876078b93617d7f2": {
      "model_module": "@jupyter-widgets/base",
      "model_module_version": "1.2.0",
      "model_name": "LayoutModel",
      "state": {
       "_model_module": "@jupyter-widgets/base",
       "_model_module_version": "1.2.0",
       "_model_name": "LayoutModel",
       "_view_count": null,
       "_view_module": "@jupyter-widgets/base",
       "_view_module_version": "1.2.0",
       "_view_name": "LayoutView",
       "align_content": null,
       "align_items": null,
       "align_self": null,
       "border": null,
       "bottom": null,
       "display": null,
       "flex": null,
       "flex_flow": null,
       "grid_area": null,
       "grid_auto_columns": null,
       "grid_auto_flow": null,
       "grid_auto_rows": null,
       "grid_column": null,
       "grid_gap": null,
       "grid_row": null,
       "grid_template_areas": null,
       "grid_template_columns": null,
       "grid_template_rows": null,
       "height": null,
       "justify_content": null,
       "justify_items": null,
       "left": null,
       "margin": null,
       "max_height": null,
       "max_width": null,
       "min_height": null,
       "min_width": null,
       "object_fit": null,
       "object_position": null,
       "order": null,
       "overflow": null,
       "overflow_x": null,
       "overflow_y": null,
       "padding": null,
       "right": null,
       "top": null,
       "visibility": null,
       "width": null
      }
     },
     "408d0e43998a4d1082d56384485de36f": {
      "model_module": "@jupyter-widgets/controls",
      "model_module_version": "1.5.0",
      "model_name": "HTMLModel",
      "state": {
       "_dom_classes": [],
       "_model_module": "@jupyter-widgets/controls",
       "_model_module_version": "1.5.0",
       "_model_name": "HTMLModel",
       "_view_count": null,
       "_view_module": "@jupyter-widgets/controls",
       "_view_module_version": "1.5.0",
       "_view_name": "HTMLView",
       "description": "",
       "description_tooltip": null,
       "layout": "IPY_MODEL_405b1bf50cc24b92876078b93617d7f2",
       "placeholder": "​",
       "style": "IPY_MODEL_62a04b8c36844bcfa0b68618b733f4b1",
       "value": " 5/5 [00:04&lt;00:00,  1.05 file/s]"
      }
     },
     "62a04b8c36844bcfa0b68618b733f4b1": {
      "model_module": "@jupyter-widgets/controls",
      "model_module_version": "1.5.0",
      "model_name": "DescriptionStyleModel",
      "state": {
       "_model_module": "@jupyter-widgets/controls",
       "_model_module_version": "1.5.0",
       "_model_name": "DescriptionStyleModel",
       "_view_count": null,
       "_view_module": "@jupyter-widgets/base",
       "_view_module_version": "1.2.0",
       "_view_name": "StyleView",
       "description_width": ""
      }
     },
     "ac3f4dcf3c0b47518c3ec15d5f7f7053": {
      "model_module": "@jupyter-widgets/controls",
      "model_module_version": "1.5.0",
      "model_name": "ProgressStyleModel",
      "state": {
       "_model_module": "@jupyter-widgets/controls",
       "_model_module_version": "1.5.0",
       "_model_name": "ProgressStyleModel",
       "_view_count": null,
       "_view_module": "@jupyter-widgets/base",
       "_view_module_version": "1.2.0",
       "_view_name": "StyleView",
       "bar_color": null,
       "description_width": "initial"
      }
     },
     "bb4d454926ae4cfcbf549a5f513b6acd": {
      "model_module": "@jupyter-widgets/controls",
      "model_module_version": "1.5.0",
      "model_name": "HBoxModel",
      "state": {
       "_dom_classes": [],
       "_model_module": "@jupyter-widgets/controls",
       "_model_module_version": "1.5.0",
       "_model_name": "HBoxModel",
       "_view_count": null,
       "_view_module": "@jupyter-widgets/controls",
       "_view_module_version": "1.5.0",
       "_view_name": "HBoxView",
       "box_style": "",
       "children": [
        "IPY_MODEL_bde33b1854eb488baf3a0afb40d3ce4d",
        "IPY_MODEL_408d0e43998a4d1082d56384485de36f"
       ],
       "layout": "IPY_MODEL_18191f128e1547c5909189eba3ab0f61"
      }
     },
     "bde33b1854eb488baf3a0afb40d3ce4d": {
      "model_module": "@jupyter-widgets/controls",
      "model_module_version": "1.5.0",
      "model_name": "FloatProgressModel",
      "state": {
       "_dom_classes": [],
       "_model_module": "@jupyter-widgets/controls",
       "_model_module_version": "1.5.0",
       "_model_name": "FloatProgressModel",
       "_view_count": null,
       "_view_module": "@jupyter-widgets/controls",
       "_view_module_version": "1.5.0",
       "_view_name": "ProgressView",
       "bar_style": "success",
       "description": "Dl Completed...: 100%",
       "description_tooltip": null,
       "layout": "IPY_MODEL_ff663e41b31a477c85b9549ae7df97c9",
       "max": 5,
       "min": 0,
       "orientation": "horizontal",
       "style": "IPY_MODEL_ac3f4dcf3c0b47518c3ec15d5f7f7053",
       "value": 5
      }
     },
     "ff663e41b31a477c85b9549ae7df97c9": {
      "model_module": "@jupyter-widgets/base",
      "model_module_version": "1.2.0",
      "model_name": "LayoutModel",
      "state": {
       "_model_module": "@jupyter-widgets/base",
       "_model_module_version": "1.2.0",
       "_model_name": "LayoutModel",
       "_view_count": null,
       "_view_module": "@jupyter-widgets/base",
       "_view_module_version": "1.2.0",
       "_view_name": "LayoutView",
       "align_content": null,
       "align_items": null,
       "align_self": null,
       "border": null,
       "bottom": null,
       "display": null,
       "flex": null,
       "flex_flow": null,
       "grid_area": null,
       "grid_auto_columns": null,
       "grid_auto_flow": null,
       "grid_auto_rows": null,
       "grid_column": null,
       "grid_gap": null,
       "grid_row": null,
       "grid_template_areas": null,
       "grid_template_columns": null,
       "grid_template_rows": null,
       "height": null,
       "justify_content": null,
       "justify_items": null,
       "left": null,
       "margin": null,
       "max_height": null,
       "max_width": null,
       "min_height": null,
       "min_width": null,
       "object_fit": null,
       "object_position": null,
       "order": null,
       "overflow": null,
       "overflow_x": null,
       "overflow_y": null,
       "padding": null,
       "right": null,
       "top": null,
       "visibility": null,
       "width": null
      }
     }
    },
    "version_major": 2,
    "version_minor": 0
   }
  }
 },
 "nbformat": 4,
 "nbformat_minor": 1
}
