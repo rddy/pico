{
 "cells": [
  {
   "cell_type": "code",
   "execution_count": null,
   "metadata": {
    "colab": {},
    "colab_type": "code",
    "id": "TPdT-hYj1XXQ",
    "scrolled": true
   },
   "outputs": [],
   "source": [
    "%load_ext autoreload\n",
    "%autoreload 2\n",
    "%matplotlib inline"
   ]
  },
  {
   "cell_type": "code",
   "execution_count": null,
   "metadata": {},
   "outputs": [],
   "source": [
    "from __future__ import division\n",
    "\n",
    "from collections import defaultdict\n",
    "import os\n",
    "import pickle\n",
    "import uuid\n",
    "\n",
    "import numpy as np\n",
    "\n",
    "from pico.gan import PicoGAN\n",
    "from pico.discrim_models import MLPDiscrim\n",
    "from pico.envs import CarEnv\n",
    "from pico.user_models import HumanCarUser\n",
    "from pico import compression_models\n",
    "from pico import utils\n",
    "\n",
    "sess = utils.make_tf_session(gpu_mode=False)"
   ]
  },
  {
   "cell_type": "code",
   "execution_count": null,
   "metadata": {},
   "outputs": [],
   "source": [
    "user_id = 'pilot'"
   ]
  },
  {
   "cell_type": "code",
   "execution_count": null,
   "metadata": {},
   "outputs": [],
   "source": [
    "data_dir = os.path.join(utils.car_data_dir, 'userstudy', user_id)\n",
    "if not os.path.exists(data_dir):\n",
    "  os.makedirs(data_dir)\n",
    "  \n",
    "human_user = HumanCarUser()\n",
    "\n",
    "n_act_blocks = 8\n",
    "n_act_dims = 3\n",
    "n_z_dim = 32\n",
    "n_obs_dims = n_z_dim+128*2\n",
    "delay = 100\n",
    "max_ep_len = 100\n",
    "discrete_act = True\n",
    "train_mask_limits = (0.5, 0.5)\n",
    "\n",
    "def make_env(\n",
    "  val_mode=True, \n",
    "  apply_mask=None, \n",
    "  mask_limits=None, \n",
    "  demo_data=None, \n",
    "  human_data=None\n",
    "  ):\n",
    "  discrim = MLPDiscrim(\n",
    "    sess, \n",
    "    n_act_dims=n_act_dims,\n",
    "    n_obs_dims=n_obs_dims,\n",
    "    discrete_act=discrete_act,\n",
    "    struct=True,\n",
    "    n_layers=2,\n",
    "    layer_size=256,\n",
    "    scope=str(uuid.uuid4()),\n",
    "    scope_file=os.path.join(data_dir, 'discrim_scope.pkl'),\n",
    "    tf_file=os.path.join(data_dir, 'discrim.tf')\n",
    "  )\n",
    "  discrim.noverfit = True\n",
    "  \n",
    "  rew_mod = MLPDiscrim(\n",
    "    sess, \n",
    "    n_act_dims=n_act_blocks,\n",
    "    n_obs_dims=n_obs_dims,\n",
    "    discrete_act=discrete_act,\n",
    "    n_layers=2,\n",
    "    layer_size=256,\n",
    "    scope=str(uuid.uuid4()),\n",
    "    scope_file=os.path.join(data_dir, 'rew_mod_scope.pkl'),\n",
    "    tf_file=os.path.join(data_dir, 'rew_mod.tf')\n",
    "  )\n",
    "  rew_mod.init_tf_vars()\n",
    "  \n",
    "  if mask_limits is not None:\n",
    "    mask_limits = mask_limits\n",
    "  elif not val_mode:\n",
    "    mask_limits = train_mask_limits\n",
    "  else:\n",
    "    mask_limits = (None, None)\n",
    "    \n",
    "  env = CarEnv(\n",
    "    sess,\n",
    "    rew_mod=rew_mod,\n",
    "    discrim=discrim,\n",
    "    save_imgs=False,\n",
    "    delay=delay,\n",
    "    max_ep_len=max_ep_len,\n",
    "    n_act_blocks=n_act_blocks,\n",
    "    human_user=human_user,\n",
    "    apply_mask=apply_mask,\n",
    "    val_mode=val_mode,\n",
    "    mask_limits=mask_limits,\n",
    "    demo_data=demo_data,\n",
    "    data=human_data,\n",
    "    discrete_act=discrete_act\n",
    "  )\n",
    "  return env\n",
    "\n",
    "apply_mask = None\n",
    "baseline_mask_policy = lambda real_obses: np.random.random((real_obses.shape[0], n_act_blocks))\n",
    "metric_names = ['rtn', 'succ', 'crash', 'min_dist']"
   ]
  },
  {
   "cell_type": "code",
   "execution_count": null,
   "metadata": {},
   "outputs": [],
   "source": []
  },
  {
   "cell_type": "code",
   "execution_count": null,
   "metadata": {
    "scrolled": true
   },
   "outputs": [],
   "source": [
    "mask_limit = 1\n",
    "n_calib_eps = 10\n",
    "n_prac_eps = 5"
   ]
  },
  {
   "cell_type": "code",
   "execution_count": null,
   "metadata": {
    "scrolled": true
   },
   "outputs": [],
   "source": [
    "demo_env = make_env(val_mode=False, mask_limits=(mask_limit, mask_limit), apply_mask=apply_mask)"
   ]
  },
  {
   "cell_type": "code",
   "execution_count": null,
   "metadata": {
    "scrolled": true
   },
   "outputs": [],
   "source": [
    "for _ in range(n_prac_eps):\n",
    "  utils.run_ep(baseline_mask_policy, demo_env)"
   ]
  },
  {
   "cell_type": "code",
   "execution_count": null,
   "metadata": {
    "scrolled": true
   },
   "outputs": [],
   "source": [
    "demo_perfs = [utils.run_ep(baseline_mask_policy, demo_env) for _ in range(n_calib_eps)]"
   ]
  },
  {
   "cell_type": "code",
   "execution_count": null,
   "metadata": {},
   "outputs": [],
   "source": [
    "demo_path = os.path.join(data_dir, 'demo_data.pkl')"
   ]
  },
  {
   "cell_type": "code",
   "execution_count": null,
   "metadata": {},
   "outputs": [],
   "source": [
    "with open(demo_path, 'rb') as f:\n",
    "  demo_perfs, demo_data = pickle.load(f)"
   ]
  },
  {
   "cell_type": "code",
   "execution_count": null,
   "metadata": {},
   "outputs": [],
   "source": [
    "demo_metrics = utils.compute_seq_metrics(demo_perfs)"
   ]
  },
  {
   "cell_type": "code",
   "execution_count": null,
   "metadata": {},
   "outputs": [],
   "source": [
    "for k in metric_names:\n",
    "  print(k, np.mean(demo_metrics[k]))"
   ]
  },
  {
   "cell_type": "code",
   "execution_count": null,
   "metadata": {},
   "outputs": [],
   "source": [
    "demo_data = {\n",
    "  'obses': demo_env.data['fake_obses'],\n",
    "  'actions': demo_env.data['actions']\n",
    "}\n",
    "demo_data = utils.split_data(demo_data, train_frac=0.99)\n",
    "\n",
    "with open(demo_path, 'wb') as f:\n",
    "  pickle.dump((demo_perfs, demo_data), f, pickle.HIGHEST_PROTOCOL)"
   ]
  },
  {
   "cell_type": "code",
   "execution_count": null,
   "metadata": {},
   "outputs": [],
   "source": []
  },
  {
   "cell_type": "code",
   "execution_count": null,
   "metadata": {},
   "outputs": [],
   "source": [
    "n_offline_eps = 15"
   ]
  },
  {
   "cell_type": "code",
   "execution_count": null,
   "metadata": {},
   "outputs": [],
   "source": [
    "env = make_env(val_mode=False, mask_limits=train_mask_limits, apply_mask=apply_mask)"
   ]
  },
  {
   "cell_type": "code",
   "execution_count": null,
   "metadata": {
    "scrolled": true
   },
   "outputs": [],
   "source": [
    "offline_perfs = [utils.run_ep(baseline_mask_policy, env) for _ in range(n_offline_eps)]"
   ]
  },
  {
   "cell_type": "code",
   "execution_count": null,
   "metadata": {},
   "outputs": [],
   "source": [
    "human_data_path = os.path.join(data_dir, 'human_data.pkl')"
   ]
  },
  {
   "cell_type": "code",
   "execution_count": null,
   "metadata": {},
   "outputs": [],
   "source": [
    "with open(human_data_path, 'rb') as f:\n",
    "  offline_perfs, human_data = pickle.load(f)"
   ]
  },
  {
   "cell_type": "code",
   "execution_count": null,
   "metadata": {},
   "outputs": [],
   "source": [
    "offline_metrics = utils.compute_seq_metrics(offline_perfs)"
   ]
  },
  {
   "cell_type": "code",
   "execution_count": null,
   "metadata": {},
   "outputs": [],
   "source": [
    "for k in metric_names:\n",
    "  print(k, np.mean(offline_metrics[k]), np.mean(demo_metrics[k]))"
   ]
  },
  {
   "cell_type": "code",
   "execution_count": null,
   "metadata": {},
   "outputs": [],
   "source": [
    "human_data = utils.split_data(env.data, train_frac=0.99)\n",
    "with open(human_data_path, 'wb') as f:\n",
    "  pickle.dump((offline_perfs, human_data), f, pickle.HIGHEST_PROTOCOL)"
   ]
  },
  {
   "cell_type": "code",
   "execution_count": null,
   "metadata": {},
   "outputs": [],
   "source": []
  },
  {
   "cell_type": "code",
   "execution_count": null,
   "metadata": {},
   "outputs": [],
   "source": [
    "obses = human_data['obses']\n",
    "fake_obses = human_data['fake_obses']\n",
    "human_data['imgs'] = np.array([env.viz_zch(obses[i]) for i in range(len(obses))]) / 255.\n",
    "human_data['fake_imgs'] = np.array([env.viz_zch(fake_obses[i]) for i in range(len(fake_obses))]) / 255."
   ]
  },
  {
   "cell_type": "code",
   "execution_count": null,
   "metadata": {},
   "outputs": [],
   "source": [
    "def make_model(env, model_path):\n",
    "  if not os.path.exists(model_path):\n",
    "    os.makedirs(model_path)\n",
    "  model = compression_models.MLPCompressor(\n",
    "    sess,\n",
    "    rew_mod=env.rew_mod,\n",
    "    n_obs_dims=n_obs_dims,\n",
    "    n_act_dims=n_act_blocks,\n",
    "    n_user_act_dims=n_act_dims,\n",
    "    n_layers=2,\n",
    "    layer_size=64,\n",
    "    #scope=str(uuid.uuid4()),\n",
    "    scope_file=os.path.join(model_path, 'scope.pkl'),\n",
    "    tf_file=os.path.join(model_path, 'model.tf')\n",
    "  )\n",
    "  return model"
   ]
  },
  {
   "cell_type": "code",
   "execution_count": null,
   "metadata": {},
   "outputs": [],
   "source": [
    "model_train_kwargs = {\n",
    "  'iterations': 10000,\n",
    "  'ftol': 1e-6,\n",
    "  'learning_rate': 1e-3,\n",
    "  'batch_size': 32,\n",
    "  'val_update_freq': 1000,\n",
    "  'verbose': True\n",
    "}\n",
    "\n",
    "n_iter = 1\n",
    "\n",
    "discrim_train_kwargs = {\n",
    "  'iterations': 10000,\n",
    "  'ftol': 1e-6,\n",
    "  'learning_rate': 1e-3,\n",
    "  'batch_size': 32,\n",
    "  'val_update_freq': 1000,\n",
    "  'verbose': True\n",
    "}\n",
    "\n",
    "rew_mod_train_kwargs = {\n",
    "  'iterations': 10000,\n",
    "  'ftol': 1e-6,\n",
    "  'learning_rate': 1e-3,\n",
    "  'batch_size': 32,\n",
    "  'val_update_freq': 1000,\n",
    "  'verbose': True\n",
    "}\n",
    "\n",
    "rew_mod_update_freq = 0\n",
    "\n",
    "aug_demo_data = {k: np.concatenate([v, v], axis=0) for k, v in demo_data.items()}\n",
    "aug_demo_data = utils.split_data(aug_demo_data, train_frac=0.99)\n",
    "\n",
    "def run_gan_training(model_path, human_data=None, using_mae=False):\n",
    "  env = make_env(val_mode=False, apply_mask=apply_mask, demo_data=aug_demo_data, human_data=human_data)\n",
    "  model = make_model(env, model_path)\n",
    "  gan = PicoGAN(model, env)\n",
    "  model = gan.train(\n",
    "    model_train_kwargs, \n",
    "    verbose=False, \n",
    "    n_iter=n_iter,\n",
    "    rew_mod_update_freq=rew_mod_update_freq, \n",
    "    rew_mod_train_kwargs=rew_mod_train_kwargs,\n",
    "    discrim_train_kwargs=discrim_train_kwargs,\n",
    "    discrim_zero_val=0.5,\n",
    "    using_mae=using_mae\n",
    "  )    \n",
    "  return model"
   ]
  },
  {
   "cell_type": "code",
   "execution_count": null,
   "metadata": {},
   "outputs": [],
   "source": [
    "model_path = os.path.join(data_dir, 'model_0')\n",
    "mae_model_path = os.path.join(data_dir, 'mae_model_0')"
   ]
  },
  {
   "cell_type": "code",
   "execution_count": null,
   "metadata": {
    "scrolled": true
   },
   "outputs": [],
   "source": [
    "model = run_gan_training(\n",
    "  model_path=model_path, \n",
    "  human_data=human_data,\n",
    "  using_mae=False\n",
    ")"
   ]
  },
  {
   "cell_type": "code",
   "execution_count": null,
   "metadata": {},
   "outputs": [],
   "source": [
    "model.save()"
   ]
  },
  {
   "cell_type": "code",
   "execution_count": null,
   "metadata": {},
   "outputs": [],
   "source": [
    "mae_model = run_gan_training(\n",
    "  model_path=model_path, \n",
    "  human_data=human_data,\n",
    "  using_mae=True\n",
    ")"
   ]
  },
  {
   "cell_type": "code",
   "execution_count": null,
   "metadata": {},
   "outputs": [],
   "source": [
    "mae_model.save()"
   ]
  },
  {
   "cell_type": "code",
   "execution_count": null,
   "metadata": {},
   "outputs": [],
   "source": []
  },
  {
   "cell_type": "code",
   "execution_count": null,
   "metadata": {},
   "outputs": [],
   "source": [
    "n_eval_episodes = 15\n",
    "mask_limit = 0.5"
   ]
  },
  {
   "cell_type": "code",
   "execution_count": null,
   "metadata": {},
   "outputs": [],
   "source": [
    "eval_env = make_env(val_mode=True, apply_mask=apply_mask)"
   ]
  },
  {
   "cell_type": "code",
   "execution_count": null,
   "metadata": {},
   "outputs": [],
   "source": [
    "def load_model(model_path):\n",
    "  model = make_model(eval_env, model_path)\n",
    "  model.load()\n",
    "  return model"
   ]
  },
  {
   "cell_type": "code",
   "execution_count": null,
   "metadata": {},
   "outputs": [],
   "source": [
    "model = load_model(model_path)"
   ]
  },
  {
   "cell_type": "code",
   "execution_count": null,
   "metadata": {},
   "outputs": [],
   "source": [
    "mae_model = load_model(mae_model_path)"
   ]
  },
  {
   "cell_type": "code",
   "execution_count": null,
   "metadata": {},
   "outputs": [],
   "source": [
    "learned_mask_policy = model.act\n",
    "mae_mask_policy = mae_model.act\n",
    "\n",
    "def local_eval_model(compression_model, mask_limit, save_imgs=False):\n",
    "  eval_env.mask_limit = mask_limit\n",
    "  eval_env.save_imgs = save_imgs\n",
    "  return utils.evaluate_seq_compression(\n",
    "    compression_model, \n",
    "    eval_env, \n",
    "    n_eval_episodes=n_eval_episodes,\n",
    "  )"
   ]
  },
  {
   "cell_type": "code",
   "execution_count": null,
   "metadata": {},
   "outputs": [],
   "source": [
    "metrics_path = os.path.join(data_dir, 'metrics.pkl')"
   ]
  },
  {
   "cell_type": "code",
   "execution_count": null,
   "metadata": {},
   "outputs": [],
   "source": [
    "with open(metrics_path, 'rb') as f:\n",
    "  metrics_of_model = pickle.load(f)"
   ]
  },
  {
   "cell_type": "code",
   "execution_count": null,
   "metadata": {},
   "outputs": [],
   "source": [
    "metrics_of_model = {}"
   ]
  },
  {
   "cell_type": "code",
   "execution_count": null,
   "metadata": {
    "scrolled": true
   },
   "outputs": [],
   "source": [
    "metrics_of_model['baseline'] = local_eval_model(baseline_mask_policy, mask_limit)"
   ]
  },
  {
   "cell_type": "code",
   "execution_count": null,
   "metadata": {
    "scrolled": true
   },
   "outputs": [],
   "source": [
    "metrics_of_model['learned'] = local_eval_model(learned_mask_policy, mask_limit)"
   ]
  },
  {
   "cell_type": "code",
   "execution_count": null,
   "metadata": {
    "scrolled": true
   },
   "outputs": [],
   "source": [
    "metrics_of_model['mae'] = local_eval_model(mae_mask_policy, mask_limit)"
   ]
  },
  {
   "cell_type": "code",
   "execution_count": null,
   "metadata": {},
   "outputs": [],
   "source": [
    "with open(metrics_path, 'wb') as f:\n",
    "  pickle.dump(metrics_of_model, f, pickle.HIGHEST_PROTOCOL)"
   ]
  },
  {
   "cell_type": "code",
   "execution_count": null,
   "metadata": {},
   "outputs": [],
   "source": [
    "for k in metric_names:\n",
    "  print(\n",
    "    k, \n",
    "    np.mean(metrics_of_model['baseline'][k]), \n",
    "    np.mean(metrics_of_model['mae'][k]), \n",
    "    np.mean(metrics_of_model['learned'][k]), \n",
    "    np.mean(demo_metrics[k])\n",
    "  )"
   ]
  },
  {
   "cell_type": "code",
   "execution_count": null,
   "metadata": {},
   "outputs": [],
   "source": []
  }
 ],
 "metadata": {
  "accelerator": "GPU",
  "colab": {
   "collapsed_sections": [
    "9v58CTfl8jTc"
   ],
   "name": "BigBiGAN TF Hub Demo",
   "private_outputs": true,
   "provenance": [],
   "toc_visible": true
  },
  "kernelspec": {
   "display_name": "Python 3",
   "language": "python",
   "name": "python3"
  },
  "language_info": {
   "codemirror_mode": {
    "name": "ipython",
    "version": 3
   },
   "file_extension": ".py",
   "mimetype": "text/x-python",
   "name": "python",
   "nbconvert_exporter": "python",
   "pygments_lexer": "ipython3",
   "version": "3.6.10"
  },
  "widgets": {
   "application/vnd.jupyter.widget-state+json": {
    "state": {
     "18191f128e1547c5909189eba3ab0f61": {
      "model_module": "@jupyter-widgets/base",
      "model_module_version": "1.2.0",
      "model_name": "LayoutModel",
      "state": {
       "_model_module": "@jupyter-widgets/base",
       "_model_module_version": "1.2.0",
       "_model_name": "LayoutModel",
       "_view_count": null,
       "_view_module": "@jupyter-widgets/base",
       "_view_module_version": "1.2.0",
       "_view_name": "LayoutView",
       "align_content": null,
       "align_items": null,
       "align_self": null,
       "border": null,
       "bottom": null,
       "display": null,
       "flex": null,
       "flex_flow": null,
       "grid_area": null,
       "grid_auto_columns": null,
       "grid_auto_flow": null,
       "grid_auto_rows": null,
       "grid_column": null,
       "grid_gap": null,
       "grid_row": null,
       "grid_template_areas": null,
       "grid_template_columns": null,
       "grid_template_rows": null,
       "height": null,
       "justify_content": null,
       "justify_items": null,
       "left": null,
       "margin": null,
       "max_height": null,
       "max_width": null,
       "min_height": null,
       "min_width": null,
       "object_fit": null,
       "object_position": null,
       "order": null,
       "overflow": null,
       "overflow_x": null,
       "overflow_y": null,
       "padding": null,
       "right": null,
       "top": null,
       "visibility": null,
       "width": null
      }
     },
     "405b1bf50cc24b92876078b93617d7f2": {
      "model_module": "@jupyter-widgets/base",
      "model_module_version": "1.2.0",
      "model_name": "LayoutModel",
      "state": {
       "_model_module": "@jupyter-widgets/base",
       "_model_module_version": "1.2.0",
       "_model_name": "LayoutModel",
       "_view_count": null,
       "_view_module": "@jupyter-widgets/base",
       "_view_module_version": "1.2.0",
       "_view_name": "LayoutView",
       "align_content": null,
       "align_items": null,
       "align_self": null,
       "border": null,
       "bottom": null,
       "display": null,
       "flex": null,
       "flex_flow": null,
       "grid_area": null,
       "grid_auto_columns": null,
       "grid_auto_flow": null,
       "grid_auto_rows": null,
       "grid_column": null,
       "grid_gap": null,
       "grid_row": null,
       "grid_template_areas": null,
       "grid_template_columns": null,
       "grid_template_rows": null,
       "height": null,
       "justify_content": null,
       "justify_items": null,
       "left": null,
       "margin": null,
       "max_height": null,
       "max_width": null,
       "min_height": null,
       "min_width": null,
       "object_fit": null,
       "object_position": null,
       "order": null,
       "overflow": null,
       "overflow_x": null,
       "overflow_y": null,
       "padding": null,
       "right": null,
       "top": null,
       "visibility": null,
       "width": null
      }
     },
     "408d0e43998a4d1082d56384485de36f": {
      "model_module": "@jupyter-widgets/controls",
      "model_module_version": "1.5.0",
      "model_name": "HTMLModel",
      "state": {
       "_dom_classes": [],
       "_model_module": "@jupyter-widgets/controls",
       "_model_module_version": "1.5.0",
       "_model_name": "HTMLModel",
       "_view_count": null,
       "_view_module": "@jupyter-widgets/controls",
       "_view_module_version": "1.5.0",
       "_view_name": "HTMLView",
       "description": "",
       "description_tooltip": null,
       "layout": "IPY_MODEL_405b1bf50cc24b92876078b93617d7f2",
       "placeholder": "​",
       "style": "IPY_MODEL_62a04b8c36844bcfa0b68618b733f4b1",
       "value": " 5/5 [00:04&lt;00:00,  1.05 file/s]"
      }
     },
     "62a04b8c36844bcfa0b68618b733f4b1": {
      "model_module": "@jupyter-widgets/controls",
      "model_module_version": "1.5.0",
      "model_name": "DescriptionStyleModel",
      "state": {
       "_model_module": "@jupyter-widgets/controls",
       "_model_module_version": "1.5.0",
       "_model_name": "DescriptionStyleModel",
       "_view_count": null,
       "_view_module": "@jupyter-widgets/base",
       "_view_module_version": "1.2.0",
       "_view_name": "StyleView",
       "description_width": ""
      }
     },
     "ac3f4dcf3c0b47518c3ec15d5f7f7053": {
      "model_module": "@jupyter-widgets/controls",
      "model_module_version": "1.5.0",
      "model_name": "ProgressStyleModel",
      "state": {
       "_model_module": "@jupyter-widgets/controls",
       "_model_module_version": "1.5.0",
       "_model_name": "ProgressStyleModel",
       "_view_count": null,
       "_view_module": "@jupyter-widgets/base",
       "_view_module_version": "1.2.0",
       "_view_name": "StyleView",
       "bar_color": null,
       "description_width": "initial"
      }
     },
     "bb4d454926ae4cfcbf549a5f513b6acd": {
      "model_module": "@jupyter-widgets/controls",
      "model_module_version": "1.5.0",
      "model_name": "HBoxModel",
      "state": {
       "_dom_classes": [],
       "_model_module": "@jupyter-widgets/controls",
       "_model_module_version": "1.5.0",
       "_model_name": "HBoxModel",
       "_view_count": null,
       "_view_module": "@jupyter-widgets/controls",
       "_view_module_version": "1.5.0",
       "_view_name": "HBoxView",
       "box_style": "",
       "children": [
        "IPY_MODEL_bde33b1854eb488baf3a0afb40d3ce4d",
        "IPY_MODEL_408d0e43998a4d1082d56384485de36f"
       ],
       "layout": "IPY_MODEL_18191f128e1547c5909189eba3ab0f61"
      }
     },
     "bde33b1854eb488baf3a0afb40d3ce4d": {
      "model_module": "@jupyter-widgets/controls",
      "model_module_version": "1.5.0",
      "model_name": "FloatProgressModel",
      "state": {
       "_dom_classes": [],
       "_model_module": "@jupyter-widgets/controls",
       "_model_module_version": "1.5.0",
       "_model_name": "FloatProgressModel",
       "_view_count": null,
       "_view_module": "@jupyter-widgets/controls",
       "_view_module_version": "1.5.0",
       "_view_name": "ProgressView",
       "bar_style": "success",
       "description": "Dl Completed...: 100%",
       "description_tooltip": null,
       "layout": "IPY_MODEL_ff663e41b31a477c85b9549ae7df97c9",
       "max": 5,
       "min": 0,
       "orientation": "horizontal",
       "style": "IPY_MODEL_ac3f4dcf3c0b47518c3ec15d5f7f7053",
       "value": 5
      }
     },
     "ff663e41b31a477c85b9549ae7df97c9": {
      "model_module": "@jupyter-widgets/base",
      "model_module_version": "1.2.0",
      "model_name": "LayoutModel",
      "state": {
       "_model_module": "@jupyter-widgets/base",
       "_model_module_version": "1.2.0",
       "_model_name": "LayoutModel",
       "_view_count": null,
       "_view_module": "@jupyter-widgets/base",
       "_view_module_version": "1.2.0",
       "_view_name": "LayoutView",
       "align_content": null,
       "align_items": null,
       "align_self": null,
       "border": null,
       "bottom": null,
       "display": null,
       "flex": null,
       "flex_flow": null,
       "grid_area": null,
       "grid_auto_columns": null,
       "grid_auto_flow": null,
       "grid_auto_rows": null,
       "grid_column": null,
       "grid_gap": null,
       "grid_row": null,
       "grid_template_areas": null,
       "grid_template_columns": null,
       "grid_template_rows": null,
       "height": null,
       "justify_content": null,
       "justify_items": null,
       "left": null,
       "margin": null,
       "max_height": null,
       "max_width": null,
       "min_height": null,
       "min_width": null,
       "object_fit": null,
       "object_position": null,
       "order": null,
       "overflow": null,
       "overflow_x": null,
       "overflow_y": null,
       "padding": null,
       "right": null,
       "top": null,
       "visibility": null,
       "width": null
      }
     }
    },
    "version_major": 2,
    "version_minor": 0
   }
  }
 },
 "nbformat": 4,
 "nbformat_minor": 1
}
